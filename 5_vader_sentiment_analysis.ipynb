{
 "cells": [
  {
   "cell_type": "code",
   "execution_count": 20,
   "metadata": {},
   "outputs": [],
   "source": [
    "import pandas as pd\n",
    "\n",
    "from vaderSentiment.vaderSentiment import SentimentIntensityAnalyzer"
   ]
  },
  {
   "cell_type": "code",
   "execution_count": 4,
   "metadata": {},
   "outputs": [],
   "source": [
    "\n",
    "\n",
    "fb2019 = pd.read_json('fb.json')"
   ]
  },
  {
   "cell_type": "code",
   "execution_count": 21,
   "metadata": {
    "scrolled": true
   },
   "outputs": [
    {
     "name": "stderr",
     "output_type": "stream",
     "text": [
      "C:\\Users\\vicya449\\AppData\\Local\\Temp/ipykernel_15064/1786791799.py:5: FutureWarning: The default value of regex will change from True to False in a future version.\n",
      "  text =text.str.replace('<.*?>|&([a-z0-9]+|#[0-9]{1,6}|#x[0-9a-f]{1,6});','')\n",
      "C:\\Users\\vicya449\\AppData\\Local\\Temp/ipykernel_15064/1786791799.py:8: FutureWarning: The default value of regex will change from True to False in a future version.\n",
      "  text= text.str.replace('[ |\\t]{2,}', '', case=False)\n",
      "C:\\Users\\vicya449\\AppData\\Local\\Temp/ipykernel_15064/1786791799.py:11: FutureWarning: The default value of regex will change from True to False in a future version.\n",
      "  text= text.str.replace('http\\S+|www.\\S+', '', case=False)\n",
      "C:\\Users\\vicya449\\AppData\\Local\\Temp/ipykernel_15064/1786791799.py:14: FutureWarning: The default value of regex will change from True to False in a future version.\n",
      "  text= text.str.replace('bit\\.ly\\S+', '', case=False)\n"
     ]
    }
   ],
   "source": [
    "#preprocess texts (remove urls, mentions and e-mail addresses, as well as html markup)\n",
    "text = fb2019[\"post\"].astype(str) \n",
    "\n",
    "#remove html markup\n",
    "text =text.str.replace('<.*?>|&([a-z0-9]+|#[0-9]{1,6}|#x[0-9a-f]{1,6});','')\n",
    "\n",
    "#remove tabs\n",
    "text= text.str.replace('[ |\\t]{2,}', '', case=False)\n",
    "\n",
    "#remove urls \n",
    "text= text.str.replace('http\\S+|www.\\S+', '', case=False)\n",
    "\n",
    "#remove additional links\n",
    "text= text.str.replace('bit\\.ly\\S+', '', case=False)\n",
    "\n",
    "text = text.tolist()"
   ]
  },
  {
   "cell_type": "code",
   "execution_count": 22,
   "metadata": {},
   "outputs": [],
   "source": [
    "#perform sentiment analysis\n",
    "\n",
    "analyzer = SentimentIntensityAnalyzer()\n",
    "\n",
    "vs_res=[]\n",
    "for row in text:\n",
    "    vs = analyzer.polarity_scores(row)\n",
    "    vs_res.append(vs)"
   ]
  },
  {
   "cell_type": "code",
   "execution_count": 23,
   "metadata": {},
   "outputs": [],
   "source": [
    "list_vader = [item for item in vs_res]\n",
    "vader_score =[item['compound'] for item in list_vader]\n",
    "fb =fb.assign(vader_score = pd.Series(vader_score))"
   ]
  },
  {
   "cell_type": "code",
   "execution_count": 24,
   "metadata": {},
   "outputs": [],
   "source": [
    "fb.to_json('fb.json')"
   ]
  }
 ],
 "metadata": {
  "kernelspec": {
   "display_name": "Python 3 (ipykernel)",
   "language": "python",
   "name": "python3"
  },
  "language_info": {
   "codemirror_mode": {
    "name": "ipython",
    "version": 3
   },
   "file_extension": ".py",
   "mimetype": "text/x-python",
   "name": "python",
   "nbconvert_exporter": "python",
   "pygments_lexer": "ipython3",
   "version": "3.9.18"
  }
 },
 "nbformat": 4,
 "nbformat_minor": 4
}
