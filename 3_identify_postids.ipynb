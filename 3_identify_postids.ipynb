{
 "cells": [
  {
   "cell_type": "code",
   "execution_count": null,
   "id": "2bab161c",
   "metadata": {},
   "outputs": [],
   "source": [
    "import pandas as pd\n",
    "from itertools import chain\n",
    "from collections import Counter\n",
    "import re\n",
    "import numpy as np\n",
    "import math\n",
    "from thefuzz import fuzz"
   ]
  },
  {
   "cell_type": "code",
   "execution_count": null,
   "id": "be2afe97",
   "metadata": {
    "scrolled": true
   },
   "outputs": [],
   "source": [
    "#load data\n",
    "path_to_dataset  = \"\"\n",
    "fb=pd.read_json(path_to_dataset)"
   ]
  },
  {
   "cell_type": "code",
   "execution_count": null,
   "id": "25e59329",
   "metadata": {},
   "outputs": [],
   "source": [
    "#clean strings (quoted texts and user ids)\n",
    "\n",
    "fb.quotetext = fb.quotetext.apply (lambda x: [re.sub(\"\\\\\\\\t|\\\\\\\\n|\\\\\\\\r\", \"\", qq) for qq in x])\n",
    "fb.quotetext = fb.quotetext.apply (lambda x: [re.sub ('c\\\\(\\\\\"|\\\\)', '', qq) for qq in x])\n",
    "fb.quotetext = fb.quotetext.apply (lambda x: [re.split('.(?=Ursprungligen postat av )', qq) for qq in x])\n",
    "fb.quotetext = fb.quotetext.apply (lambda x: x[0])\n",
    "fb.quotetext = fb.quotetext.apply (lambda x: [re.sub('  \\\\\"\\\\,|  \\\\\"', '', qq) for qq in x])\n",
    "fb.quotetext = fb.quotetext.apply (lambda x: [re.sub (\" +\", ' ', qq) for qq in x])\n",
    "fb.quotetext = fb.quotetext.apply (lambda x: [qq.strip () for qq in x])\n",
    "\n",
    "fb.user = fb.user.str.lower()\n",
    "fb.user = fb.user.str.strip()\n",
    "\n",
    "fb.quote = fb.quote.apply (lambda x: [name.lower() for name in x])\n",
    "fb.quote = fb.quote.apply (lambda x: [re.sub (\"&aring;\", \"å\", quote) for quote in x])\n",
    "fb.quote = fb.quote.apply (lambda x: [re.sub (\"&atilde;\", \"ã\", quote) for quote in x])\n",
    "fb.quote = fb.quote.apply (lambda x: [re.sub (\"&auml;\", \"ä\", quote) for quote in x])\n",
    "fb.quote = fb.quote.apply (lambda x: [re.sub (\"&ouml;\", \"ö\", quote) for quote in x])\n",
    "fb.quote = fb.quote.apply (lambda x: [name.strip() for name in x])\n",
    "\n",
    "quotes = fb.quotetext.apply (lambda x: [re.sub (\"Ursprungligen postat av \\S+.*? \", \"\", text) for text in x]).tolist()\n"
   ]
  },
  {
   "cell_type": "code",
   "execution_count": null,
   "id": "c5d645db",
   "metadata": {
    "scrolled": false
   },
   "outputs": [],
   "source": [
    "#perform fuzzy string mathcing with thefuzz - match initial messages with their qoutes by other users\n",
    "\n",
    "quoteids = []\n",
    "\n",
    "for i in range(0, len(quotes)):\n",
    "\n",
    "    if fb.quoteid[i] != ['']:\n",
    "        quoteids.append(fb.quoteid[i])  \n",
    "        continue\n",
    "    \n",
    "    elif fb.quote[i] == ['']:\n",
    "        quoteids.append([''])\n",
    "        continue\n",
    "        \n",
    "    else:\n",
    "        ids = []\n",
    "        \n",
    "        for  j in range(0, len(fb.quote[i])):\n",
    "            \n",
    "            df = fb[[\"postid\", \"post\"]][(fb.user == fb.quote[i][j]) & (fb.header == fb.header[i])].reset_index(drop = True)\n",
    "            \n",
    "            if len(df)==0:\n",
    "                ids.append([np.nan])  \n",
    "                \n",
    "            elif len(df)==1:\n",
    "                ids.append(df.postid[0])    \n",
    "            \n",
    "            else:\n",
    "                rat=[]\n",
    "                for k in range(0, len(df)):\n",
    "                    rat.append(fuzz.ratio(quotes[i][j], df.post[k]))\n",
    "                \n",
    "                ids.append(df.postid[np.argmax(rat)])\n",
    "\n",
    "    quoteids.append(ids)\n",
    "\n",
    "fb['calc_quoteid'] = quoteids"
   ]
  },
  {
   "cell_type": "code",
   "execution_count": null,
   "id": "5b94a56b",
   "metadata": {},
   "outputs": [],
   "source": [
    "fb.to_json(\"flashback_df.json\")"
   ]
  }
 ],
 "metadata": {
  "kernelspec": {
   "display_name": "Python 3 (ipykernel)",
   "language": "python",
   "name": "python3"
  },
  "language_info": {
   "codemirror_mode": {
    "name": "ipython",
    "version": 3
   },
   "file_extension": ".py",
   "mimetype": "text/x-python",
   "name": "python",
   "nbconvert_exporter": "python",
   "pygments_lexer": "ipython3",
   "version": "3.9.16"
  }
 },
 "nbformat": 4,
 "nbformat_minor": 5
}
