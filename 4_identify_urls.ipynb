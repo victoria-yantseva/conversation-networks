{
 "cells": [
  {
   "cell_type": "code",
   "execution_count": null,
   "id": "2bab161c",
   "metadata": {},
   "outputs": [],
   "source": [
    "import pandas as pd\n",
    "from itertools import chain\n",
    "from collections import Counter\n",
    "import urlexpander\n",
    "from urllib.parse import urlparse\n",
    "import re\n",
    "import numpy as np\n",
    "import requests\n",
    "import matplotlib.pyplot as plt\n",
    "from matplotlib.pyplot import figure\n",
    "import math\n",
    "import seaborn as sns\n",
    "\n",
    "from urllib.request import urlopen"
   ]
  },
  {
   "cell_type": "code",
   "execution_count": null,
   "id": "be2afe97",
   "metadata": {},
   "outputs": [],
   "source": [
    "fb=pd.read_json(\"flashback_info_df.json\") #path to the file\n",
    "fb"
   ]
  },
  {
   "cell_type": "code",
   "execution_count": null,
   "id": "793c9470",
   "metadata": {},
   "outputs": [],
   "source": [
    "#clean strings that contain users' messages \n",
    "\n",
    "fb.quote = fb.quote.apply (lambda x: [x[\"quote\"]] if len(x)>0 else [\"\"])\n",
    "fb.quote = fb.quote.apply (lambda x: x[0] if type (x[0]) == list else x)\n",
    "fb.quote = fb.quote.apply (lambda x: [name.strip() for name in x])\n",
    "\n",
    "fb.url = fb.url.apply (lambda x: [x[\"url\"]] if len(x)>0 else [\"\"])\n",
    "fb.url = fb.url.apply (lambda x: x[0] if type (x[0]) == list else x)\n",
    "\n",
    "fb.quotetext = fb.quotetext.apply (lambda x: [x[\"quotetext\"]] if len(x)>0 else [\"\"])\n",
    "fb.quotetext = fb.quotetext.apply (lambda x: [\"\"] if x == [\"character(0)\"] else x)\n",
    "fb.quotetext = fb.quotetext.apply (lambda x: x[0] if type (x[0]) == list else x)\n",
    "\n",
    "fb.quoteid = fb.quoteid.apply (lambda x: [x[\"quoteid\"]] if len(x)>0 else [\"\"])\n",
    "fb.quoteid = fb.quoteid.apply (lambda x: [\"\"] if x == [\"character(0)\"] else x)\n",
    "fb.quoteid = fb.quoteid.apply (lambda x: x[0] if type (x[0]) == list else x)\n",
    "fb.quoteid = fb.quoteid.apply (lambda x: [name.strip() for name in x])\n"
   ]
  },
  {
   "cell_type": "code",
   "execution_count": null,
   "id": "ce91593f",
   "metadata": {},
   "outputs": [],
   "source": [
    "#Expand short links\n",
    "\n",
    "bitly = fb.url.apply(lambda x: [re.findall('\\S+bit\\.ly.*', l)for l in x])\n",
    "bitly = bitly.apply(lambda x: sum (x, []))\n",
    "\n",
    "links=[]\n",
    "for bit in bitly:\n",
    "    l=[]\n",
    "    for b in bit:\n",
    "        try:\n",
    "            exp_link = requests.get(b)\n",
    "            l.append(exp_link.url)\n",
    "            print(exp_link.url)\n",
    "        except:\n",
    "            pass\n",
    "        \n",
    "    links.append(l) \n",
    "    \n",
    "for i in range(0, len(links)):\n",
    "    \n",
    "    if links[i]:\n",
    "        for j in range(0, len(links[i])):\n",
    "        \n",
    "            fb.url[i][j]=links[i][j]    \n"
   ]
  },
  {
   "cell_type": "code",
   "execution_count": null,
   "id": "88b68f78",
   "metadata": {},
   "outputs": [],
   "source": [
    "#Shorten URLs\n",
    "\n",
    "shorturl = fb.url.apply (lambda x: [urlparse(url).hostname for url in x])\n",
    "fb = fb.assign (shorturl = pd.Series(shorturl))\n",
    "\n",
    "fb.shorturl = fb.shorturl.apply(lambda x: [re.sub('www\\.', '', string or '') for string in x])"
   ]
  },
  {
   "cell_type": "code",
   "execution_count": null,
   "id": "3eec96e1",
   "metadata": {},
   "outputs": [],
   "source": [
    "#Identify the most popular media resourced and save the list for further labelling\n",
    "                          \n",
    "sources= [[x for x in line if x  != ''] for line in fb.shorturl]\n",
    "\n",
    "sources_count = Counter(x for xs in sources for x in set(xs))\n",
    "sources_sorted = sources_count.most_common()\n",
    "\n",
    "source_df = pd.DataFrame.from_records(sources_sorted, columns =['name', 'freq'])\n",
    "\n",
    "sm_list = [\"youtube.com\", \"twitter.com\", \"reddit.com\", \"instagram.com\", \"facebook.com\", \"tiktok.com\"]\n",
    "\n",
    "source_df = source_df[~source_df['name'].isin(sm_list)]\n",
    "\n",
    "source_df.to_excel (\"urls_freq.xlsx\")\n"
   ]
  },
  {
   "cell_type": "code",
   "execution_count": null,
   "id": "33cd717c",
   "metadata": {},
   "outputs": [],
   "source": [
    "#import labelled media list and assign categories to each of the links\n",
    "\n",
    "url_df_final = pd.read_excel(\"media_list_labelling.xlsx\")\n",
    "url_df_final = url_df_final.drop (columns = \"Unnamed: 0\")\n",
    "url_df_final\n",
    "\n",
    "\n",
    "media_types = []\n",
    "for j in range (0, len(fb)):\n",
    "    line_types = []\n",
    "    if len (fb.loc[j, 'shorturl'])==0:\n",
    "            \n",
    "        a = 'na'\n",
    "        line_types.append(a)\n",
    "    else:\n",
    "            \n",
    "        a=[element.replace(element, url_df_final.loc[url_df_final.name == element, 'final_label'].iloc[0])\n",
    "                                        if element in url_df_final.name.unique() else 'na' \n",
    "                                        for element in fb.loc[j, 'shorturl']]\n",
    "        \n",
    "        line_types.append(a)\n",
    "        \n",
    "    media_types.append(a)\n",
    "     \n",
    "fb = fb.assign(media_type = pd.Series(media_types))       "
   ]
  },
  {
   "cell_type": "code",
   "execution_count": null,
   "id": "ad0fe0f9",
   "metadata": {},
   "outputs": [],
   "source": [
    "#calculate the number of links per category in each message\n",
    "\n",
    "num_am = fb.media_type.apply(lambda row: row.count('AM'))\n",
    "fb = fb.assign (num_am = num_am)\n",
    "\n",
    "num_mm = fb.media_type.apply(lambda row: row.count('MM'))\n",
    "fb = fb.assign (num_mm = num_mm)\n",
    "\n",
    "num_all = fb.shorturl.apply (lambda x: len (x) if x[0] else 0) \n",
    "fb = fb.assign (num_all = num_all)"
   ]
  },
  {
   "cell_type": "code",
   "execution_count": null,
   "id": "a8061e88",
   "metadata": {},
   "outputs": [],
   "source": [
    "#save\n",
    "fb.to_json(\"flashback_info_df.json\")"
   ]
  }
 ],
 "metadata": {
  "kernelspec": {
   "display_name": "Python 3 (ipykernel)",
   "language": "python",
   "name": "python3"
  },
  "language_info": {
   "codemirror_mode": {
    "name": "ipython",
    "version": 3
   },
   "file_extension": ".py",
   "mimetype": "text/x-python",
   "name": "python",
   "nbconvert_exporter": "python",
   "pygments_lexer": "ipython3",
   "version": "3.9.16"
  }
 },
 "nbformat": 4,
 "nbformat_minor": 5
}
