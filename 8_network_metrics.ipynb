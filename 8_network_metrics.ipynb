{
 "cells": [
  {
   "cell_type": "code",
   "execution_count": 8,
   "id": "96dad00d",
   "metadata": {},
   "outputs": [],
   "source": [
    "import networkx as nx\n",
    "\n",
    "from csv import reader\n",
    "from collections import defaultdict\n",
    "import matplotlib.pyplot as plt\n",
    "\n",
    "from statistics import mean"
   ]
  },
  {
   "cell_type": "code",
   "execution_count": 15,
   "id": "bf9984bd",
   "metadata": {},
   "outputs": [],
   "source": [
    "EDGE_DATA = 'conversation_edgelist27min.csv' #input the necessary edge list\n",
    "EDGE_OUTPUT_FILE = 'conversations_edges_27min.csv'\n",
    "GRAPH_OUTPUT_FILE = 'conversations_graph_27min.csv'"
   ]
  },
  {
   "cell_type": "code",
   "execution_count": 16,
   "id": "2c564e26",
   "metadata": {},
   "outputs": [],
   "source": [
    "m_graphs_nodes = defaultdict(set)\n",
    "m_graphs_edges = defaultdict(list)\n",
    "u_graphs_nodes = defaultdict(set)\n",
    "u_graphs_edges = defaultdict(list)\n",
    "\n",
    "with open(EDGE_DATA, 'r') as file:\n",
    "    csv_reader = reader(file)\n",
    "    \n",
    "    for n, row in enumerate(csv_reader):\n",
    "        if n == 0:\n",
    "            continue\n",
    "        \n",
    "        g_id = row[14]\n",
    "        \n",
    "        m_edge = [ row[1], row[2], row[3] ]\n",
    "        m_graphs_nodes[g_id].add( row[1] )\n",
    "        m_graphs_nodes[g_id].add( row[2] )\n",
    "        m_graphs_edges[g_id].append(m_edge)"
   ]
  },
  {
   "cell_type": "code",
   "execution_count": 17,
   "id": "65c04d03",
   "metadata": {},
   "outputs": [],
   "source": [
    "m_graphs = dict()\n",
    "u_graphs = dict()\n",
    "\n",
    "edges_output_file = open(EDGE_OUTPUT_FILE, 'w')\n",
    "graph_output_file = open(GRAPH_OUTPUT_FILE, 'w')\n",
    "\n",
    "graph_uid = 0\n",
    "for key, value in m_graphs_edges.items():\n",
    "    g = nx.DiGraph()\n",
    "    \n",
    "    for edge in value:\n",
    "        g.add_edge(edge[0], edge[1], weight = edge[2])\n",
    "        \n",
    "    for component in nx.weakly_connected_components(g):\n",
    "        c = nx.subgraph(g, component)        \n",
    "        \n",
    "        n_nodes = c.order()\n",
    "        n_edges = c.size()\n",
    "        deg_c = mean(nx.degree_centrality(c).values())\n",
    "        ideg_c = mean(nx.in_degree_centrality(c).values())\n",
    "        odeg_c = mean(nx.out_degree_centrality(c).values())\n",
    "        \n",
    "        clu = nx.average_clustering(c)\n",
    "        recip = nx.overall_reciprocity(c)\n",
    "        dens = nx.density(c)\n",
    "        \n",
    "        for u, v, weight in c.edges(data = \"weight\"):\n",
    "            edges_output_file.write(f\"{graph_uid}, {u}, {v}, {weight}\\n\")\n",
    "                              \n",
    "        graph_output_file.write(f\"{graph_uid}, {n_nodes}, {n_edges}, {ideg_c}, {odeg_c}, {deg_c}, {clu}, {recip}, {dens}\\n\")\n",
    "        graph_uid = graph_uid + 1"
   ]
  }
 ],
 "metadata": {
  "kernelspec": {
   "display_name": "Python 3 (ipykernel)",
   "language": "python",
   "name": "python3"
  },
  "language_info": {
   "codemirror_mode": {
    "name": "ipython",
    "version": 3
   },
   "file_extension": ".py",
   "mimetype": "text/x-python",
   "name": "python",
   "nbconvert_exporter": "python",
   "pygments_lexer": "ipython3",
   "version": "3.9.18"
  }
 },
 "nbformat": 4,
 "nbformat_minor": 5
}
